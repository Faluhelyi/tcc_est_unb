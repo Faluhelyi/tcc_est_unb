{
 "cells": [
  {
   "cell_type": "code",
   "execution_count": 1,
   "metadata": {},
   "outputs": [],
   "source": [
    "#\"https://drive.google.com/u/0/uc?id=1-WO3SfNrwwZ5_l7fRTiwBKRw7mi1-HUq&export=download\"\n",
    "\n",
    "#\"https://drive.google.com/u/0/uc?id=1PRQjuV5gOn_nn6UNvaJyVURDIfbSAK4-&export=download\"\n",
    "\n",
    "##############################################################################################\n",
    "### Arquivo para alcançar, via web scraping, os dados, da PRF, que serao utilizados no TCC ###\n",
    "##############################################################################################\n",
    "import pandas as pd\n",
    "import numpy as np\n",
    "import requests\n",
    "from bs4 import BeautifulSoup\n",
    "import wget\n",
    "import zipfile\n",
    "import warnings\n",
    "import patoolib\n",
    "import shutil\n",
    "import os\n",
    "import glob\n",
    "import matplotlib.pyplot as plt\n",
    "import urllib.request\n",
    "import pyarrow\n",
    "\n",
    "##########################\n",
    "### Dowload .ZIP files ###\n",
    "##########################\n",
    "warnings.filterwarnings('ignore')\n",
    "INPUT_PATH = \"C:/Users/u00378/Desktop/tcc_est_unb\"\n",
    "\n",
    "# Request\n",
    "r1 = requests.get('https://www.gov.br/prf/pt-br/acesso-a-informacao/dados-abertos/dados-abertos-acidentes')\n",
    "r1.status_code\n",
    " \n",
    "# We'll save in coverpage the cover page content\n",
    "coverpage = r1.content\n",
    "\n",
    "# Soup creation\n",
    "soup1 = BeautifulSoup(coverpage, 'html.parser')\n",
    "\n",
    "# useful identification\n",
    "coverpage_useful = soup1.find_all('a', class_='external-link', title = )"
   ]
  },
  {
   "cell_type": "code",
   "execution_count": 11,
   "metadata": {},
   "outputs": [
    {
     "data": {
      "text/plain": [
       "<a class=\"external-link\" data-tippreview-enabled=\"false\" data-tippreview-image=\"\" data-tippreview-title=\"\" href=\"https://www.win-rar.com/start.html?&amp;L=0\" target=\"_blank\" title=\"WinRAR\">WinRAR</a>"
      ]
     },
     "execution_count": 11,
     "metadata": {},
     "output_type": "execute_result"
    }
   ],
   "source": [
    "matcher = re.compile('^A1.8301$')\n",
    "[i for i in coverpage_useful]"
   ]
  }
 ],
 "metadata": {
  "kernelspec": {
   "display_name": "Python 3",
   "language": "python",
   "name": "python3"
  },
  "language_info": {
   "codemirror_mode": {
    "name": "ipython",
    "version": 3
   },
   "file_extension": ".py",
   "mimetype": "text/x-python",
   "name": "python",
   "nbconvert_exporter": "python",
   "pygments_lexer": "ipython3",
   "version": "3.11.1"
  },
  "orig_nbformat": 4
 },
 "nbformat": 4,
 "nbformat_minor": 2
}
