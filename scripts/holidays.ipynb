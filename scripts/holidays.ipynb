{
 "cells": [
  {
   "cell_type": "code",
   "execution_count": 1,
   "metadata": {},
   "outputs": [],
   "source": [
    "import holidays"
   ]
  },
  {
   "cell_type": "code",
   "execution_count": 35,
   "metadata": {},
   "outputs": [],
   "source": [
    "br_holidays = holidays.country_holidays('BR')  # this is a dict"
   ]
  },
  {
   "cell_type": "code",
   "execution_count": 58,
   "metadata": {},
   "outputs": [
    {
     "name": "stdout",
     "output_type": "stream",
     "text": [
      "2007-01-01 Ano novo\n",
      "2007-02-20 Carnaval\n",
      "2007-02-21 Quarta-feira de cinzas (Início da Quaresma)\n",
      "2007-04-06 Sexta-feira Santa\n",
      "2007-04-08 Páscoa\n",
      "2007-04-21 Tiradentes\n",
      "2007-05-01 Dia Mundial do Trabalho\n",
      "2007-06-07 Corpus Christi\n",
      "2007-09-07 Independência do Brasil\n",
      "2007-10-12 Nossa Senhora Aparecida\n",
      "2007-11-02 Finados\n",
      "2007-11-15 Proclamação da República\n",
      "2007-12-25 Natal\n"
     ]
    }
   ],
   "source": [
    "for date, name in sorted(holidays.BR(years=2007).items()):\n",
    "    print(date, name)"
   ]
  },
  {
   "cell_type": "code",
   "execution_count": 59,
   "metadata": {},
   "outputs": [
    {
     "name": "stdout",
     "output_type": "stream",
     "text": [
      "2007-01-01 Ano novo\n",
      "2007-02-20 Carnaval\n",
      "2007-02-21 Quarta-feira de cinzas (Início da Quaresma)\n",
      "2007-04-06 Sexta-feira Santa\n",
      "2007-04-08 Páscoa\n",
      "2007-04-21 Fundação de Brasília; Tiradentes\n",
      "2007-05-01 Dia Mundial do Trabalho\n",
      "2007-06-07 Corpus Christi\n",
      "2007-09-07 Independência do Brasil\n",
      "2007-10-12 Nossa Senhora Aparecida\n",
      "2007-11-02 Finados\n",
      "2007-11-15 Proclamação da República\n",
      "2007-11-30 Dia do Evangélico\n",
      "2007-12-25 Natal\n"
     ]
    }
   ],
   "source": [
    "for date, name in sorted(holidays.BR(subdiv='DF',years=2007).items()):\n",
    "    print(date, name)"
   ]
  }
 ],
 "metadata": {
  "kernelspec": {
   "display_name": "Python 3",
   "language": "python",
   "name": "python3"
  },
  "language_info": {
   "codemirror_mode": {
    "name": "ipython",
    "version": 3
   },
   "file_extension": ".py",
   "mimetype": "text/x-python",
   "name": "python",
   "nbconvert_exporter": "python",
   "pygments_lexer": "ipython3",
   "version": "3.11.1"
  },
  "orig_nbformat": 4
 },
 "nbformat": 4,
 "nbformat_minor": 2
}
