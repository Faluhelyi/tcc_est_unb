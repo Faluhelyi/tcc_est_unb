{
 "cells": [
  {
   "cell_type": "code",
   "execution_count": 2,
   "metadata": {},
   "outputs": [],
   "source": [
    "import pandas as pd\n",
    "import numpy as np\n",
    "import holidays\n",
    "\n",
    "#INPUT_PATH = \"C:/Users/u00378/Desktop/tcc_est_unb\"\n",
    "INPUT_PATH = \"C:/Users/Igor/Desktop/TCC\"\n",
    "\n",
    "df = pd.read_pickle(f'{INPUT_PATH}/dados/tcc_data.pkl')"
   ]
  },
  {
   "attachments": {},
   "cell_type": "markdown",
   "metadata": {},
   "source": [
    "## WEEKDAY AND HOLIDAYS"
   ]
  },
  {
   "cell_type": "code",
   "execution_count": 3,
   "metadata": {},
   "outputs": [],
   "source": [
    "br_holidays = holidays.country_holidays('BR')  # this is a dict\n",
    "df_holidays = holidays.country_holidays('BR', subdiv='DF')  # this is a dict\n"
   ]
  },
  {
   "cell_type": "code",
   "execution_count": 4,
   "metadata": {},
   "outputs": [],
   "source": [
    "BR_H = list(map(lambda x: br_holidays.get(x), df['data_inversa']))\n",
    "DF_H = list(map(lambda x: df_holidays.get(x), df['data_inversa']))\n",
    "\n",
    "WEEKDAYS = list(map(lambda x: x.weekday(), df['data_inversa']))\n",
    "\n",
    "#df['event_name'] = map(br_holidays.get(), df['data_inversa'])"
   ]
  },
  {
   "cell_type": "code",
   "execution_count": 5,
   "metadata": {},
   "outputs": [
    {
     "data": {
      "text/plain": [
       "False"
      ]
     },
     "execution_count": 5,
     "metadata": {},
     "output_type": "execute_result"
    }
   ],
   "source": [
    "BR_H == DF_H"
   ]
  },
  {
   "cell_type": "code",
   "execution_count": null,
   "metadata": {},
   "outputs": [],
   "source": []
  }
 ],
 "metadata": {
  "kernelspec": {
   "display_name": "Python 3",
   "language": "python",
   "name": "python3"
  },
  "language_info": {
   "codemirror_mode": {
    "name": "ipython",
    "version": 3
   },
   "file_extension": ".py",
   "mimetype": "text/x-python",
   "name": "python",
   "nbconvert_exporter": "python",
   "pygments_lexer": "ipython3",
   "version": "3.10.4"
  },
  "orig_nbformat": 4
 },
 "nbformat": 4,
 "nbformat_minor": 2
}
