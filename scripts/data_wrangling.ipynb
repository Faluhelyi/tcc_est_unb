{
 "cells": [
  {
   "cell_type": "code",
   "execution_count": 114,
   "metadata": {},
   "outputs": [],
   "source": [
    "import pandas as pd\n",
    "import numpy as np\n",
    "import requests\n",
    "from bs4 import BeautifulSoup\n",
    "import wget\n",
    "import zipfile\n",
    "import warnings\n",
    "import patoolib\n",
    "import shutil\n",
    "import os\n",
    "import glob\n",
    "import matplotlib.pyplot as plt\n",
    "import urllib.request\n",
    "import pyarrow\n",
    "\n",
    "INPUT_PATH = \"C:/Users/Igor/Desktop/TCC\"\n",
    "\n",
    "df = pd.read_pickle(f'{INPUT_PATH}/git_repo/dados_tcc.pkl')"
   ]
  },
  {
   "cell_type": "code",
   "execution_count": 115,
   "metadata": {},
   "outputs": [
    {
     "data": {
      "text/plain": [
       "Index(['id', 'pesid', 'data_inversa', 'dia_semana', 'horario', 'uf', 'br',\n",
       "       'km', 'municipio', 'causa_acidente', 'tipo_acidente',\n",
       "       'classificacao_acidente', 'fase_dia', 'sentido_via',\n",
       "       'condicao_metereologica', 'tipo_pista', 'tracado_via', 'uso_solo',\n",
       "       'id_veiculo', 'tipo_veiculo', 'marca', 'ano_fabricacao_veiculo',\n",
       "       'tipo_envolvido', 'estado_fisico', 'idade', 'sexo', 'nacionalidade',\n",
       "       'naturalidade', 'ano', 'pessoas', 'mortos', 'feridos_leves',\n",
       "       'feridos_graves', 'ilesos', 'ignorados', 'feridos', 'veiculos',\n",
       "       'latitude', 'longitude', 'regional', 'delegacia', 'uop'],\n",
       "      dtype='object')"
      ]
     },
     "execution_count": 115,
     "metadata": {},
     "output_type": "execute_result"
    }
   ],
   "source": [
    "df.columns"
   ]
  },
  {
   "cell_type": "code",
   "execution_count": 116,
   "metadata": {},
   "outputs": [
    {
     "data": {
      "text/plain": [
       "id                           double[pyarrow]\n",
       "pesid                         int64[pyarrow]\n",
       "data_inversa                  datetime64[ns]\n",
       "dia_semana                   string[pyarrow]\n",
       "horario                   time32[s][pyarrow]\n",
       "uf                           string[pyarrow]\n",
       "br                            int64[pyarrow]\n",
       "km                           string[pyarrow]\n",
       "municipio                    string[pyarrow]\n",
       "causa_acidente               string[pyarrow]\n",
       "tipo_acidente                string[pyarrow]\n",
       "classificacao_acidente       string[pyarrow]\n",
       "fase_dia                     string[pyarrow]\n",
       "sentido_via                  string[pyarrow]\n",
       "condicao_metereologica       string[pyarrow]\n",
       "tipo_pista                   string[pyarrow]\n",
       "tracado_via                  string[pyarrow]\n",
       "uso_solo                     string[pyarrow]\n",
       "id_veiculo                    int64[pyarrow]\n",
       "tipo_veiculo                 string[pyarrow]\n",
       "marca                        string[pyarrow]\n",
       "ano_fabricacao_veiculo                object\n",
       "tipo_envolvido               string[pyarrow]\n",
       "estado_fisico                string[pyarrow]\n",
       "idade                         int64[pyarrow]\n",
       "sexo                         string[pyarrow]\n",
       "nacionalidade                string[pyarrow]\n",
       "naturalidade                 string[pyarrow]\n",
       "ano                           int64[pyarrow]\n",
       "pessoas                       int64[pyarrow]\n",
       "mortos                        int64[pyarrow]\n",
       "feridos_leves                 int64[pyarrow]\n",
       "feridos_graves                int64[pyarrow]\n",
       "ilesos                        int64[pyarrow]\n",
       "ignorados                     int64[pyarrow]\n",
       "feridos                       int64[pyarrow]\n",
       "veiculos                      int64[pyarrow]\n",
       "latitude                              object\n",
       "longitude                             object\n",
       "regional                     string[pyarrow]\n",
       "delegacia                    string[pyarrow]\n",
       "uop                          string[pyarrow]\n",
       "dtype: object"
      ]
     },
     "execution_count": 116,
     "metadata": {},
     "output_type": "execute_result"
    }
   ],
   "source": [
    "df.dtypes"
   ]
  }
 ],
 "metadata": {
  "kernelspec": {
   "display_name": "Python 3",
   "language": "python",
   "name": "python3"
  },
  "language_info": {
   "codemirror_mode": {
    "name": "ipython",
    "version": 3
   },
   "file_extension": ".py",
   "mimetype": "text/x-python",
   "name": "python",
   "nbconvert_exporter": "python",
   "pygments_lexer": "ipython3",
   "version": "3.10.4"
  },
  "orig_nbformat": 4
 },
 "nbformat": 4,
 "nbformat_minor": 2
}
